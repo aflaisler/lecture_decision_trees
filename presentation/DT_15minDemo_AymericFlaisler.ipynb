{
 "cells": [
  {
   "cell_type": "markdown",
   "metadata": {
    "slideshow": {
     "slide_type": "slide"
    }
   },
   "source": [
    "# Decision Trees\n",
    "\n",
    "## By Aymeric Flaisler"
   ]
  },
  {
   "cell_type": "markdown",
   "metadata": {
    "slideshow": {
     "slide_type": "slide"
    }
   },
   "source": [
    "## DECISION TREES\n",
    "\n",
    "- Describe the difference between classification and\n",
    "regression trees and how to interpret these models\n",
    "- Explain and communicate the tradeoffs of decision trees\n",
    "- Build decision trees"
   ]
  },
  {
   "cell_type": "markdown",
   "metadata": {
    "slideshow": {
     "slide_type": "slide"
    }
   },
   "source": [
    "# Here is Some (Categorical) Data:\n",
    "\n",
    "![title](img/data_dt_cat.png)"
   ]
  },
  {
   "cell_type": "markdown",
   "metadata": {
    "slideshow": {
     "slide_type": "slide"
    }
   },
   "source": [
    "# How Can We Make Decisions ?\n",
    "\n",
    "![title](./img/dt_cat_bad_code_0.png)"
   ]
  },
  {
   "cell_type": "markdown",
   "metadata": {
    "slideshow": {
     "slide_type": "slide"
    }
   },
   "source": [
    "# Why is this HORRIBLE ?\n",
    "\n",
    "![title](img/dt_cat_bad_code_1.png)"
   ]
  },
  {
   "cell_type": "markdown",
   "metadata": {
    "slideshow": {
     "slide_type": "slide"
    }
   },
   "source": [
    "# Now with a Decision Tree\n",
    "\n",
    "![title](img/dt_cat_1.png)"
   ]
  },
  {
   "cell_type": "markdown",
   "metadata": {
    "slideshow": {
     "slide_type": "slide"
    }
   },
   "source": [
    "# Now with a Decision Tree\n",
    "\n",
    "![title](img/dt_cat_2.png)"
   ]
  },
  {
   "cell_type": "markdown",
   "metadata": {
    "slideshow": {
     "slide_type": "slide"
    }
   },
   "source": [
    "# Now with a Decision Tree\n",
    "\n",
    "![title](img/dt_cat_3.png)"
   ]
  },
  {
   "cell_type": "markdown",
   "metadata": {
    "slideshow": {
     "slide_type": "slide"
    }
   },
   "source": [
    "# Terminology A tree consists of:\n",
    "\n",
    "- Node\n",
    "- Branches\n",
    "- Root\n",
    "- Leaves\n",
    "\n",
    "\n",
    "![title](img/dt_term_0.png)"
   ]
  },
  {
   "cell_type": "markdown",
   "metadata": {
    "slideshow": {
     "slide_type": "slide"
    }
   },
   "source": [
    "# Regression Trees (Numerical data)\n",
    "\n",
    "![title](img/dt_reg_0.png)\n"
   ]
  },
  {
   "cell_type": "markdown",
   "metadata": {
    "collapsed": true,
    "slideshow": {
     "slide_type": "slide"
    }
   },
   "source": [
    "# Predictions and Actual Values (Depth = 1)\n",
    "\n",
    "![title](img/dt_reg_1.png)"
   ]
  },
  {
   "cell_type": "markdown",
   "metadata": {
    "collapsed": true,
    "slideshow": {
     "slide_type": "slide"
    }
   },
   "source": [
    "# Predictions and Actual Values (Depth = 2)\n",
    "\n",
    "![title](img/dt_reg_2.png)"
   ]
  },
  {
   "cell_type": "markdown",
   "metadata": {
    "collapsed": true,
    "slideshow": {
     "slide_type": "slide"
    }
   },
   "source": [
    "# Decision Trees Trade Offs\n",
    "\n",
    "## Pros\n",
    "\n",
    "- Easily interpretable\n",
    "- No assumption that the structure of the model is fixed\n",
    "- Computationally cheap to predict\n",
    "- Can handle irrelevant features, missing values, and outliers well\n",
    "- Can handle mixed data (discrete, continuous, categorical)\n",
    "\n",
    "\n",
    "## Cons\n",
    "\n",
    "- Computationally expensive to train \n",
    "- Greedy algorithm (local optima)\n",
    "- Very high variance (super easy to overfit)"
   ]
  },
  {
   "cell_type": "markdown",
   "metadata": {
    "slideshow": {
     "slide_type": "slide"
    }
   },
   "source": [
    "# Building a Decision Tree: Splits\n",
    "\n",
    "![title](img/dt_build_0.png)"
   ]
  },
  {
   "cell_type": "markdown",
   "metadata": {
    "slideshow": {
     "slide_type": "slide"
    }
   },
   "source": [
    "# Which test (split) is the most informative? \n",
    "\n",
    "![title](img/dt_build_1.png)"
   ]
  },
  {
   "cell_type": "markdown",
   "metadata": {
    "slideshow": {
     "slide_type": "slide"
    }
   },
   "source": [
    "# Entropy: a Common Way to Measure Impurity\n",
    "\n",
    "- Entropy = $\\sum_{i} -p_i . log_2 (p_i)$ \n",
    "\n",
    "$p_i$ is the probability of class i in the set<br>\n",
    "\n",
    "\n",
    "\n",
    "![title](img/dt_build_2.png)"
   ]
  },
  {
   "cell_type": "markdown",
   "metadata": {
    "slideshow": {
     "slide_type": "slide"
    }
   },
   "source": [
    "# How Are we Going to Split...? \n",
    "\n",
    "- What an ideal split?\n",
    "\n"
   ]
  },
  {
   "cell_type": "markdown",
   "metadata": {
    "slideshow": {
     "slide_type": "fragment"
    }
   },
   "source": [
    "\n",
    "##  => One that maximize the information about the prediction\n",
    "\n",
    "![title](img/dt_build_6.png)\n",
    "\n"
   ]
  },
  {
   "cell_type": "markdown",
   "metadata": {
    "slideshow": {
     "slide_type": "slide"
    }
   },
   "source": [
    "# Information Gain \n",
    "<br>\n",
    "## => Tells us how important a given attribute of the feature vectors is\n",
    "<br>\n",
    "Information Gain = entropy(parent) – [mean(entropy(children))]"
   ]
  },
  {
   "cell_type": "markdown",
   "metadata": {
    "slideshow": {
     "slide_type": "slide"
    }
   },
   "source": [
    "# Splitting (test on X):\n",
    "\n",
    "\n",
    "![title](./img/dt_build_3_empty.png)"
   ]
  },
  {
   "cell_type": "markdown",
   "metadata": {
    "slideshow": {
     "slide_type": "fragment"
    }
   },
   "source": [
    "![title](./img/dt_build_7.png)"
   ]
  },
  {
   "cell_type": "markdown",
   "metadata": {
    "slideshow": {
     "slide_type": "slide"
    }
   },
   "source": [
    "# Splitting (test on X):\n",
    "\n",
    "\n",
    "![title](img/dt_build_3.png)"
   ]
  },
  {
   "cell_type": "markdown",
   "metadata": {
    "slideshow": {
     "slide_type": "slide"
    }
   },
   "source": [
    "# Splitting (test on Z):\n",
    "\n",
    "\n",
    "![title](img/dt_build_4.png)"
   ]
  },
  {
   "cell_type": "markdown",
   "metadata": {
    "slideshow": {
     "slide_type": "slide"
    }
   },
   "source": [
    "# Splitting (test on Y):\n",
    "\n",
    "\n",
    "![title](img/dt_build_5.png)"
   ]
  },
  {
   "cell_type": "markdown",
   "metadata": {
    "slideshow": {
     "slide_type": "slide"
    }
   },
   "source": [
    "# Building a Decision Tree: (pseudocode)\n",
    "\n",
    "\n",
    "## Splitting algorithm:\n",
    "1. calculate the information gain for every possible split \n",
    "2. select the split that has the highest information gain\n",
    "\n",
    "## Possible splits:\n",
    "- for categorical features:\n",
    "variable = value (or !=) \n",
    "- for continuous features:\n",
    "variable <= threshold (or >)\n",
    "\n",
    "## If subset is pure: STOP else recursively call the algorithm again on the child node"
   ]
  },
  {
   "cell_type": "markdown",
   "metadata": {
    "slideshow": {
     "slide_type": "slide"
    }
   },
   "source": [
    "# Review\n",
    "\n",
    "- Describe a Decision Tree\n",
    "- How does one interpret the tree?\n",
    "- How does one create the tree?\n",
    "- Explain Information Gain\n",
    "- Explain strengths and weaknesses of DTs"
   ]
  }
 ],
 "metadata": {
  "celltoolbar": "Slideshow",
  "kernelspec": {
   "display_name": "Python 3",
   "language": "python",
   "name": "python3"
  },
  "language_info": {
   "codemirror_mode": {
    "name": "ipython",
    "version": 3
   },
   "file_extension": ".py",
   "mimetype": "text/x-python",
   "name": "python",
   "nbconvert_exporter": "python",
   "pygments_lexer": "ipython3",
   "version": "3.6.1"
  }
 },
 "nbformat": 4,
 "nbformat_minor": 2
}
